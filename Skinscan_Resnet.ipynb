{
  "cells": [
    {
      "cell_type": "code",
      "execution_count": null,
      "metadata": {
        "id": "FDyTm5NUmYlT"
      },
      "outputs": [],
      "source": [
        "!pip install -Uqq fastbook"
      ]
    },
    {
      "cell_type": "code",
      "source": [
        "!pip install virtualenv\n",
        "!virtualenv venv\n",
        "!source venv/bin/activate\n",
        "!pip install fastbook\n"
      ],
      "metadata": {
        "id": "2IvZrBO80CY4"
      },
      "execution_count": null,
      "outputs": []
    },
    {
      "cell_type": "code",
      "execution_count": null,
      "metadata": {
        "id": "kPc5l6dMJ5so"
      },
      "outputs": [],
      "source": [
        "import fastbook\n",
        "fastbook.setup_book()"
      ]
    },
    {
      "cell_type": "code",
      "execution_count": null,
      "metadata": {
        "id": "505xVsTcUgJ4"
      },
      "outputs": [],
      "source": [
        "!pip install duckduckgo-images-api"
      ]
    },
    {
      "cell_type": "code",
      "execution_count": null,
      "metadata": {
        "id": "vviB_sjSCeSo"
      },
      "outputs": [],
      "source": [
        "#hide\n",
        "from fastbook import *\n",
        "from fastai.vision.widgets import *"
      ]
    },
    {
      "cell_type": "code",
      "execution_count": null,
      "metadata": {
        "id": "OeF0ZSx3Cf3O"
      },
      "outputs": [],
      "source": [
        "search_images_ddg"
      ]
    },
    {
      "cell_type": "code",
      "execution_count": null,
      "metadata": {
        "id": "iWLwfvsHCpll"
      },
      "outputs": [],
      "source": [
        "face_problem_types = ['DARK CIRCLES ON FACE','DARK SPOTS ON FACE','EYE BAGS','DRY SKIN','OILY SKIN','FACE REDNESS',\n",
        "          'DULL SKIN','ROUGH TEXTURE ON FACE','LARGE PORES ON FACE','UNDER-EYE WRINKLES','HORMONAL ACNE',\n",
        "          'BLACKHEADS','SEBACEOUS FILAMENTS','FOREHEAD WRINKLES', 'ACNE']\n",
        "path = Path('Skin_Problems')"
      ]
    },
    {
      "cell_type": "code",
      "execution_count": null,
      "metadata": {
        "id": "h92-qSUBUq2P"
      },
      "outputs": [],
      "source": [
        "if not path.exists():\n",
        "    path.mkdir()\n",
        "    for face_problem_type in face_problem_types :\n",
        "      dest = (path/face_problem_type)\n",
        "      dest.mkdir(exist_ok = True)\n",
        "      results = search_images_ddg(f'{face_problem_type} face_problem')\n",
        "      download_images(dest, urls = results)"
      ]
    },
    {
      "cell_type": "code",
      "execution_count": null,
      "metadata": {
        "id": "fsXRd7kNCz9n"
      },
      "outputs": [],
      "source": [
        "fns = get_image_files(path)\n",
        "fns"
      ]
    },
    {
      "cell_type": "code",
      "execution_count": null,
      "metadata": {
        "id": "1rOB1x20C2dV"
      },
      "outputs": [],
      "source": [
        "failed = verify_images(fns)\n",
        "failed"
      ]
    },
    {
      "cell_type": "code",
      "execution_count": null,
      "metadata": {
        "id": "xxKqCmoVDTJP"
      },
      "outputs": [],
      "source": [
        "failed.map(Path.unlink);"
      ]
    },
    {
      "cell_type": "code",
      "source": [
        "!zip -r Skin_Problems.zip Skin_Problems/"
      ],
      "metadata": {
        "id": "RKTI8QZjqA9l"
      },
      "execution_count": null,
      "outputs": []
    },
    {
      "cell_type": "code",
      "source": [
        "from google.colab import files\n",
        "files.download('Skin_Problems.zip')"
      ],
      "metadata": {
        "id": "OnQfVLV0qRLi"
      },
      "execution_count": null,
      "outputs": []
    },
    {
      "cell_type": "code",
      "execution_count": null,
      "metadata": {
        "id": "pX26ddlgDV9_"
      },
      "outputs": [],
      "source": [
        "face_problems = DataBlock(\n",
        "    blocks=(ImageBlock, CategoryBlock),\n",
        "    get_items=get_image_files,\n",
        "    splitter=RandomSplitter(valid_pct=0.1, seed=42),\n",
        "    get_y=parent_label,\n",
        "    item_tfms=Resize(128))"
      ]
    },
    {
      "cell_type": "code",
      "execution_count": null,
      "metadata": {
        "id": "OrFQ-zqbDYJI"
      },
      "outputs": [],
      "source": [
        "dls = face_problems.dataloaders(path)"
      ]
    },
    {
      "cell_type": "code",
      "execution_count": null,
      "metadata": {
        "id": "zozSC6OKDZrY"
      },
      "outputs": [],
      "source": [
        "face_problems = face_problems.new(item_tfms=Resize(128), batch_tfms=aug_transforms(mult=2))\n",
        "dls = face_problems.dataloaders(path)\n",
        "dls.train.show_batch(max_n=8, nrows=2, unique=True)"
      ]
    },
    {
      "cell_type": "code",
      "execution_count": null,
      "metadata": {
        "id": "wA_jzKnbWtso"
      },
      "outputs": [],
      "source": [
        "face_problems = face_problems.new(\n",
        "    item_tfms=RandomResizedCrop(224, min_scale=0.5),\n",
        "    batch_tfms=aug_transforms(),\n",
        ")\n",
        "dls = face_problems.dataloaders(path,bs=16)"
      ]
    },
    {
      "cell_type": "code",
      "execution_count": null,
      "metadata": {
        "id": "SLfRw7oWWxnT"
      },
      "outputs": [],
      "source": [
        "learn = cnn_learner(dls, resnet50, metrics=error_rate)\n",
        "learn.fine_tune(50)"
      ]
    },
    {
      "cell_type": "code",
      "execution_count": null,
      "metadata": {
        "id": "W8JnbCWaYRcK"
      },
      "outputs": [],
      "source": [
        "interp = ClassificationInterpretation.from_learner(learn)\n",
        "interp.plot_confusion_matrix()"
      ]
    },
    {
      "cell_type": "code",
      "execution_count": null,
      "metadata": {
        "id": "Mvu30tmeYUqC"
      },
      "outputs": [],
      "source": [
        "interp.plot_top_losses(1, nrows=1)"
      ]
    },
    {
      "cell_type": "code",
      "execution_count": null,
      "metadata": {
        "id": "tk0LgHemYdvv"
      },
      "outputs": [],
      "source": [
        "learn.export()"
      ]
    },
    {
      "cell_type": "code",
      "execution_count": null,
      "metadata": {
        "id": "J91_gX-GYfpe"
      },
      "outputs": [],
      "source": [
        "path = Path()\n",
        "path.ls(file_exts='.pkl')"
      ]
    }
  ],
  "metadata": {
    "accelerator": "GPU",
    "colab": {
      "gpuType": "T4",
      "provenance": []
    },
    "kernelspec": {
      "display_name": "Python 3",
      "name": "python3"
    },
    "language_info": {
      "name": "python"
    }
  },
  "nbformat": 4,
  "nbformat_minor": 0
}